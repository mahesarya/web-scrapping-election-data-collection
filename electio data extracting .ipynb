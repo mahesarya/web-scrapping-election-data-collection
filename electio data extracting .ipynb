{
 "cells": [
  {
   "cell_type": "code",
   "execution_count": 75,
   "metadata": {},
   "outputs": [],
   "source": [
    "#import needed libraires...\n",
    "from bs4 import BeautifulSoup\n",
    "import requests\n",
    "import pandas as pd\n",
    "import numpy as np"
   ]
  },
  {
   "cell_type": "code",
   "execution_count": 151,
   "metadata": {},
   "outputs": [
    {
     "name": "stderr",
     "output_type": "stream",
     "text": [
      "<ipython-input-151-90630489534c>:26: VisibleDeprecationWarning: Creating an ndarray from ragged nested sequences (which is a list-or-tuple of lists-or-tuples-or ndarrays with different lengths or shapes) is deprecated. If you meant to do this, you must specify 'dtype=object' when creating the ndarray\n",
      "  new_df=pd.DataFrame(np.array(columns_values[i]))\n"
     ]
    }
   ],
   "source": [
    "url=f'https://www.elections.in/parliamentary-constituencies/2009-election-results.html'\n",
    "r=requests.get(url)\n",
    "page=r.content\n",
    "soup=BeautifulSoup(page,'html.parser')\n",
    "table=soup.find(name='div',attrs={'class':'tablewide'}).find(name='table',attrs={'class':'tableizer-table'})\n",
    "columns=[]#creating a empy list for taking columns name\n",
    "for th in table.findAll('th'):\n",
    "    for text in th:\n",
    "        columns.append(text)\n",
    "    all_val=[]#creating this empty list for taking all values of columns...\n",
    "for val in table.findAll('td'):\n",
    "    for text in val:\n",
    "        all_val.append(text)\n",
    "\n",
    "\n",
    "    #extracting column by column value\n",
    "columns_values=[list() for i in range(12)]#creating a nested list for taking values of every column seperatly\n",
    "for i in range(len(columns_values)):\n",
    "    length=0+i#adding every time value of i in length to setting new value of length..\n",
    "    for val in range(len(all_val)):\n",
    "        if length<6720:#6720 is the length of all_val,resaon for adding this line to prevent the index out of range error...\n",
    "            columns_values[i].append(all_val[length])#appending values list by list\n",
    "            length+=12#adding 12 in the length, because we have total 12 columns so i taking particular value in particular column... \n",
    "df=pd.DataFrame()\n",
    "for i in range(len(columns_values)):\n",
    "    new_df=pd.DataFrame(np.array(columns_values[i]))\n",
    "    df=pd.concat([df,new_df],axis=1,ignore_index=True)\n",
    "df.columns=[columns]\n",
    "df.to_csv('general_lok_sabha-election_2009.csv',index=False)    \n"
   ]
  },
  {
   "cell_type": "code",
   "execution_count": 152,
   "metadata": {},
   "outputs": [
    {
     "data": {
      "text/html": [
       "<div>\n",
       "<style scoped>\n",
       "    .dataframe tbody tr th:only-of-type {\n",
       "        vertical-align: middle;\n",
       "    }\n",
       "\n",
       "    .dataframe tbody tr th {\n",
       "        vertical-align: top;\n",
       "    }\n",
       "\n",
       "    .dataframe thead th {\n",
       "        text-align: right;\n",
       "    }\n",
       "</style>\n",
       "<table border=\"1\" class=\"dataframe\">\n",
       "  <thead>\n",
       "    <tr style=\"text-align: right;\">\n",
       "      <th></th>\n",
       "      <th>State</th>\n",
       "      <th>PC No.</th>\n",
       "      <th>PC Name</th>\n",
       "      <th>Category</th>\n",
       "      <th>Winner</th>\n",
       "      <th>Gender</th>\n",
       "      <th>Party</th>\n",
       "      <th>Vote</th>\n",
       "      <th>Runner Up</th>\n",
       "      <th>Gender.1</th>\n",
       "      <th>Party.1</th>\n",
       "      <th>Vote.1</th>\n",
       "    </tr>\n",
       "  </thead>\n",
       "  <tbody>\n",
       "    <tr>\n",
       "      <th>0</th>\n",
       "      <td>Andhra Pradesh</td>\n",
       "      <td>1</td>\n",
       "      <td>Adilabad</td>\n",
       "      <td>(ST)</td>\n",
       "      <td>Ramesh Rathod</td>\n",
       "      <td>M</td>\n",
       "      <td>TDP</td>\n",
       "      <td>372268</td>\n",
       "      <td>Kotnak Ramesh</td>\n",
       "      <td>M</td>\n",
       "      <td>INC</td>\n",
       "      <td>257181</td>\n",
       "    </tr>\n",
       "    <tr>\n",
       "      <th>1</th>\n",
       "      <td>Andhra Pradesh</td>\n",
       "      <td>2</td>\n",
       "      <td>Peddapalli</td>\n",
       "      <td>(SC)</td>\n",
       "      <td>Dr. Gaddam Vivekanand</td>\n",
       "      <td>M</td>\n",
       "      <td>INC</td>\n",
       "      <td>313748</td>\n",
       "      <td>Gomasa Srinivas</td>\n",
       "      <td>M</td>\n",
       "      <td>TRS</td>\n",
       "      <td>264731</td>\n",
       "    </tr>\n",
       "    <tr>\n",
       "      <th>2</th>\n",
       "      <td>Andhra Pradesh</td>\n",
       "      <td>3</td>\n",
       "      <td>Karimnagar</td>\n",
       "      <td>GEN</td>\n",
       "      <td>Ponnam Prabhakar</td>\n",
       "      <td>M</td>\n",
       "      <td>INC</td>\n",
       "      <td>317927</td>\n",
       "      <td>Vinod Kumar Boinapally</td>\n",
       "      <td>M</td>\n",
       "      <td>TRS</td>\n",
       "      <td>267684</td>\n",
       "    </tr>\n",
       "    <tr>\n",
       "      <th>3</th>\n",
       "      <td>Andhra Pradesh</td>\n",
       "      <td>4</td>\n",
       "      <td>Nizamabad</td>\n",
       "      <td>GEN</td>\n",
       "      <td>Madhu Goud Yaskhi</td>\n",
       "      <td>M</td>\n",
       "      <td>INC</td>\n",
       "      <td>296504</td>\n",
       "      <td>Bigala Ganesh Gupta</td>\n",
       "      <td>M</td>\n",
       "      <td>TRS</td>\n",
       "      <td>236114</td>\n",
       "    </tr>\n",
       "    <tr>\n",
       "      <th>4</th>\n",
       "      <td>Andhra Pradesh</td>\n",
       "      <td>5</td>\n",
       "      <td>Zahirabad</td>\n",
       "      <td>GEN</td>\n",
       "      <td>Suresh Kumar Shetkar</td>\n",
       "      <td>M</td>\n",
       "      <td>INC</td>\n",
       "      <td>395767</td>\n",
       "      <td>Syed Yousuf Ali</td>\n",
       "      <td>M</td>\n",
       "      <td>TRS</td>\n",
       "      <td>378360</td>\n",
       "    </tr>\n",
       "  </tbody>\n",
       "</table>\n",
       "</div>"
      ],
      "text/plain": [
       "            State  PC No.     PC Name  Category                  Winner  \\\n",
       "0  Andhra Pradesh        1    Adilabad      (ST)          Ramesh Rathod   \n",
       "1  Andhra Pradesh        2  Peddapalli      (SC)  Dr. Gaddam Vivekanand   \n",
       "2  Andhra Pradesh        3  Karimnagar       GEN       Ponnam Prabhakar   \n",
       "3  Andhra Pradesh        4   Nizamabad       GEN      Madhu Goud Yaskhi   \n",
       "4  Andhra Pradesh        5   Zahirabad       GEN   Suresh Kumar Shetkar   \n",
       "\n",
       "  Gender Party    Vote               Runner Up Gender.1 Party.1  Vote.1  \n",
       "0      M   TDP  372268           Kotnak Ramesh        M     INC  257181  \n",
       "1      M   INC  313748         Gomasa Srinivas        M     TRS  264731  \n",
       "2      M   INC  317927  Vinod Kumar Boinapally        M     TRS  267684  \n",
       "3      M   INC  296504     Bigala Ganesh Gupta        M     TRS  236114  \n",
       "4      M   INC  395767         Syed Yousuf Ali        M     TRS  378360  "
      ]
     },
     "execution_count": 152,
     "metadata": {},
     "output_type": "execute_result"
    }
   ],
   "source": [
    "data=pd.read_csv('general_lok_sabha-election_2009.csv')\n",
    "data.head()"
   ]
  },
  {
   "cell_type": "code",
   "execution_count": 153,
   "metadata": {},
   "outputs": [
    {
     "data": {
      "text/plain": [
       "State        0\n",
       " PC No.      0\n",
       "PC Name      0\n",
       "Category     0\n",
       "Winner       0\n",
       "Gender       0\n",
       "Party        0\n",
       "Vote         0\n",
       "Runner Up    0\n",
       "Gender.1     0\n",
       "Party.1      0\n",
       "Vote.1       0\n",
       "dtype: int64"
      ]
     },
     "execution_count": 153,
     "metadata": {},
     "output_type": "execute_result"
    }
   ],
   "source": [
    "data.isnull().sum()"
   ]
  },
  {
   "cell_type": "code",
   "execution_count": null,
   "metadata": {},
   "outputs": [],
   "source": []
  },
  {
   "cell_type": "code",
   "execution_count": 6,
   "metadata": {},
   "outputs": [],
   "source": []
  },
  {
   "cell_type": "code",
   "execution_count": null,
   "metadata": {},
   "outputs": [],
   "source": [
    "\n"
   ]
  },
  {
   "cell_type": "code",
   "execution_count": null,
   "metadata": {},
   "outputs": [],
   "source": []
  },
  {
   "cell_type": "code",
   "execution_count": 22,
   "metadata": {},
   "outputs": [],
   "source": []
  },
  {
   "cell_type": "code",
   "execution_count": 82,
   "metadata": {},
   "outputs": [],
   "source": []
  },
  {
   "cell_type": "code",
   "execution_count": 83,
   "metadata": {},
   "outputs": [],
   "source": [
    "\n",
    "    "
   ]
  },
  {
   "cell_type": "code",
   "execution_count": null,
   "metadata": {},
   "outputs": [],
   "source": []
  },
  {
   "cell_type": "code",
   "execution_count": null,
   "metadata": {},
   "outputs": [],
   "source": [
    "\n",
    "    "
   ]
  },
  {
   "cell_type": "code",
   "execution_count": 143,
   "metadata": {},
   "outputs": [],
   "source": []
  },
  {
   "cell_type": "code",
   "execution_count": null,
   "metadata": {},
   "outputs": [],
   "source": []
  },
  {
   "cell_type": "code",
   "execution_count": null,
   "metadata": {},
   "outputs": [],
   "source": []
  },
  {
   "cell_type": "code",
   "execution_count": null,
   "metadata": {},
   "outputs": [],
   "source": []
  },
  {
   "cell_type": "code",
   "execution_count": null,
   "metadata": {},
   "outputs": [],
   "source": []
  },
  {
   "cell_type": "code",
   "execution_count": null,
   "metadata": {},
   "outputs": [],
   "source": []
  },
  {
   "cell_type": "code",
   "execution_count": null,
   "metadata": {},
   "outputs": [],
   "source": []
  }
 ],
 "metadata": {
  "kernelspec": {
   "display_name": "Python 3",
   "language": "python",
   "name": "python3"
  },
  "language_info": {
   "codemirror_mode": {
    "name": "ipython",
    "version": 3
   },
   "file_extension": ".py",
   "mimetype": "text/x-python",
   "name": "python",
   "nbconvert_exporter": "python",
   "pygments_lexer": "ipython3",
   "version": "3.8.5"
  }
 },
 "nbformat": 4,
 "nbformat_minor": 4
}
